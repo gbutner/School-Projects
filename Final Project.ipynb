{
 "cells": [
  {
   "cell_type": "markdown",
   "id": "f66a9695",
   "metadata": {},
   "source": [
    "# NFL Recieving Stats 2020"
   ]
  },
  {
   "cell_type": "code",
   "execution_count": 194,
   "id": "f58da245",
   "metadata": {},
   "outputs": [],
   "source": [
    "import requests\n",
    "import pandas as pd\n",
    "import matplotlib.pyplot as plt\n",
    "import seaborn as sns\n",
    "from os import path\n",
    "import scipy.stats\n",
    "import numpy as np"
   ]
  },
  {
   "cell_type": "markdown",
   "id": "6621b1c3",
   "metadata": {},
   "source": [
    "## Web Scraping"
   ]
  },
  {
   "cell_type": "markdown",
   "id": "ad72486a",
   "metadata": {},
   "source": [
    "The data choosen is last year's NFL recieving stats for all players who caught passes. This data was collected over the 16 game season however, some players missed games due to injury or personal matters.\n",
    "\n",
    "First we will look at how the recieving stats vary by position, considering there are four different types of players that catch passes.\n",
    "\n",
    "Then the analysis will focus on the relationship of yards compared to the touchdowns being scored by player.\n",
    "\n",
    "Finally we will look at the team's reception yards to get a better picture of who was performing the best last year."
   ]
  },
  {
   "cell_type": "code",
   "execution_count": 2,
   "id": "761acc3a",
   "metadata": {},
   "outputs": [
    {
     "data": {
      "text/html": [
       "<div>\n",
       "<style scoped>\n",
       "    .dataframe tbody tr th:only-of-type {\n",
       "        vertical-align: middle;\n",
       "    }\n",
       "\n",
       "    .dataframe tbody tr th {\n",
       "        vertical-align: top;\n",
       "    }\n",
       "\n",
       "    .dataframe thead th {\n",
       "        text-align: right;\n",
       "    }\n",
       "</style>\n",
       "<table border=\"1\" class=\"dataframe\">\n",
       "  <thead>\n",
       "    <tr style=\"text-align: right;\">\n",
       "      <th></th>\n",
       "      <th>Rk</th>\n",
       "      <th>Player</th>\n",
       "      <th>Tm</th>\n",
       "      <th>Age</th>\n",
       "      <th>Pos</th>\n",
       "      <th>G</th>\n",
       "      <th>GS</th>\n",
       "      <th>Tgt</th>\n",
       "      <th>Rec</th>\n",
       "      <th>Ctch%</th>\n",
       "      <th>Yds</th>\n",
       "      <th>Y/R</th>\n",
       "      <th>TD</th>\n",
       "      <th>1D</th>\n",
       "      <th>Lng</th>\n",
       "      <th>Y/Tgt</th>\n",
       "      <th>R/G</th>\n",
       "      <th>Y/G</th>\n",
       "      <th>Fmb</th>\n",
       "    </tr>\n",
       "  </thead>\n",
       "  <tbody>\n",
       "    <tr>\n",
       "      <th>0</th>\n",
       "      <td>1</td>\n",
       "      <td>Stefon Diggs*+\\DiggSt00</td>\n",
       "      <td>BUF</td>\n",
       "      <td>27</td>\n",
       "      <td>WR</td>\n",
       "      <td>16</td>\n",
       "      <td>15</td>\n",
       "      <td>166</td>\n",
       "      <td>127</td>\n",
       "      <td>0.765</td>\n",
       "      <td>1535</td>\n",
       "      <td>12.1</td>\n",
       "      <td>8</td>\n",
       "      <td>73</td>\n",
       "      <td>55</td>\n",
       "      <td>9.2</td>\n",
       "      <td>7.9</td>\n",
       "      <td>95.9</td>\n",
       "      <td>0</td>\n",
       "    </tr>\n",
       "    <tr>\n",
       "      <th>1</th>\n",
       "      <td>2</td>\n",
       "      <td>Davante Adams*+\\AdamDa01</td>\n",
       "      <td>GNB</td>\n",
       "      <td>28</td>\n",
       "      <td>WR</td>\n",
       "      <td>14</td>\n",
       "      <td>14</td>\n",
       "      <td>149</td>\n",
       "      <td>115</td>\n",
       "      <td>0.772</td>\n",
       "      <td>1374</td>\n",
       "      <td>11.9</td>\n",
       "      <td>18</td>\n",
       "      <td>73</td>\n",
       "      <td>56</td>\n",
       "      <td>9.2</td>\n",
       "      <td>8.2</td>\n",
       "      <td>98.1</td>\n",
       "      <td>1</td>\n",
       "    </tr>\n",
       "    <tr>\n",
       "      <th>2</th>\n",
       "      <td>3</td>\n",
       "      <td>DeAndre Hopkins*\\HopkDe00</td>\n",
       "      <td>ARI</td>\n",
       "      <td>28</td>\n",
       "      <td>WR</td>\n",
       "      <td>16</td>\n",
       "      <td>16</td>\n",
       "      <td>160</td>\n",
       "      <td>115</td>\n",
       "      <td>0.719</td>\n",
       "      <td>1407</td>\n",
       "      <td>12.2</td>\n",
       "      <td>6</td>\n",
       "      <td>75</td>\n",
       "      <td>60</td>\n",
       "      <td>8.8</td>\n",
       "      <td>7.2</td>\n",
       "      <td>87.9</td>\n",
       "      <td>3</td>\n",
       "    </tr>\n",
       "    <tr>\n",
       "      <th>3</th>\n",
       "      <td>4</td>\n",
       "      <td>Darren Waller*\\WallDa01</td>\n",
       "      <td>LVR</td>\n",
       "      <td>28</td>\n",
       "      <td>TE</td>\n",
       "      <td>16</td>\n",
       "      <td>15</td>\n",
       "      <td>145</td>\n",
       "      <td>107</td>\n",
       "      <td>0.738</td>\n",
       "      <td>1196</td>\n",
       "      <td>11.2</td>\n",
       "      <td>9</td>\n",
       "      <td>69</td>\n",
       "      <td>38</td>\n",
       "      <td>8.2</td>\n",
       "      <td>6.7</td>\n",
       "      <td>74.8</td>\n",
       "      <td>2</td>\n",
       "    </tr>\n",
       "    <tr>\n",
       "      <th>4</th>\n",
       "      <td>5</td>\n",
       "      <td>Travis Kelce*+\\KelcTr00</td>\n",
       "      <td>KAN</td>\n",
       "      <td>31</td>\n",
       "      <td>TE</td>\n",
       "      <td>15</td>\n",
       "      <td>15</td>\n",
       "      <td>145</td>\n",
       "      <td>105</td>\n",
       "      <td>0.724</td>\n",
       "      <td>1416</td>\n",
       "      <td>13.5</td>\n",
       "      <td>11</td>\n",
       "      <td>79</td>\n",
       "      <td>45</td>\n",
       "      <td>9.8</td>\n",
       "      <td>7.0</td>\n",
       "      <td>94.4</td>\n",
       "      <td>1</td>\n",
       "    </tr>\n",
       "    <tr>\n",
       "      <th>...</th>\n",
       "      <td>...</td>\n",
       "      <td>...</td>\n",
       "      <td>...</td>\n",
       "      <td>...</td>\n",
       "      <td>...</td>\n",
       "      <td>...</td>\n",
       "      <td>...</td>\n",
       "      <td>...</td>\n",
       "      <td>...</td>\n",
       "      <td>...</td>\n",
       "      <td>...</td>\n",
       "      <td>...</td>\n",
       "      <td>...</td>\n",
       "      <td>...</td>\n",
       "      <td>...</td>\n",
       "      <td>...</td>\n",
       "      <td>...</td>\n",
       "      <td>...</td>\n",
       "      <td>...</td>\n",
       "    </tr>\n",
       "    <tr>\n",
       "      <th>494</th>\n",
       "      <td>495</td>\n",
       "      <td>Trevon Wesco\\WescTr00</td>\n",
       "      <td>NYJ</td>\n",
       "      <td>25</td>\n",
       "      <td>NaN</td>\n",
       "      <td>12</td>\n",
       "      <td>4</td>\n",
       "      <td>2</td>\n",
       "      <td>1</td>\n",
       "      <td>0.500</td>\n",
       "      <td>5</td>\n",
       "      <td>5.0</td>\n",
       "      <td>0</td>\n",
       "      <td>0</td>\n",
       "      <td>5</td>\n",
       "      <td>2.5</td>\n",
       "      <td>0.1</td>\n",
       "      <td>0.4</td>\n",
       "      <td>0</td>\n",
       "    </tr>\n",
       "    <tr>\n",
       "      <th>495</th>\n",
       "      <td>496</td>\n",
       "      <td>Dede Westbrook\\WestDe00</td>\n",
       "      <td>JAX</td>\n",
       "      <td>27</td>\n",
       "      <td>NaN</td>\n",
       "      <td>2</td>\n",
       "      <td>0</td>\n",
       "      <td>1</td>\n",
       "      <td>1</td>\n",
       "      <td>1.000</td>\n",
       "      <td>4</td>\n",
       "      <td>4.0</td>\n",
       "      <td>0</td>\n",
       "      <td>0</td>\n",
       "      <td>4</td>\n",
       "      <td>4.0</td>\n",
       "      <td>0.5</td>\n",
       "      <td>2.0</td>\n",
       "      <td>1</td>\n",
       "    </tr>\n",
       "    <tr>\n",
       "      <th>496</th>\n",
       "      <td>497</td>\n",
       "      <td>Antonio Williams\\WillAn03</td>\n",
       "      <td>BUF</td>\n",
       "      <td>23</td>\n",
       "      <td>NaN</td>\n",
       "      <td>1</td>\n",
       "      <td>0</td>\n",
       "      <td>1</td>\n",
       "      <td>1</td>\n",
       "      <td>1.000</td>\n",
       "      <td>20</td>\n",
       "      <td>20.0</td>\n",
       "      <td>0</td>\n",
       "      <td>1</td>\n",
       "      <td>20</td>\n",
       "      <td>20.0</td>\n",
       "      <td>1.0</td>\n",
       "      <td>20.0</td>\n",
       "      <td>0</td>\n",
       "    </tr>\n",
       "    <tr>\n",
       "      <th>497</th>\n",
       "      <td>498</td>\n",
       "      <td>Luke Willson\\WillLu00</td>\n",
       "      <td>2TM</td>\n",
       "      <td>30</td>\n",
       "      <td>NaN</td>\n",
       "      <td>8</td>\n",
       "      <td>0</td>\n",
       "      <td>3</td>\n",
       "      <td>1</td>\n",
       "      <td>0.333</td>\n",
       "      <td>12</td>\n",
       "      <td>12.0</td>\n",
       "      <td>0</td>\n",
       "      <td>0</td>\n",
       "      <td>12</td>\n",
       "      <td>4.0</td>\n",
       "      <td>0.1</td>\n",
       "      <td>1.5</td>\n",
       "      <td>0</td>\n",
       "    </tr>\n",
       "    <tr>\n",
       "      <th>498</th>\n",
       "      <td>499</td>\n",
       "      <td>T.J. Yeldon\\YeldT.00</td>\n",
       "      <td>BUF</td>\n",
       "      <td>27</td>\n",
       "      <td>NaN</td>\n",
       "      <td>3</td>\n",
       "      <td>0</td>\n",
       "      <td>4</td>\n",
       "      <td>1</td>\n",
       "      <td>0.250</td>\n",
       "      <td>22</td>\n",
       "      <td>22.0</td>\n",
       "      <td>1</td>\n",
       "      <td>1</td>\n",
       "      <td>22</td>\n",
       "      <td>5.5</td>\n",
       "      <td>0.3</td>\n",
       "      <td>7.3</td>\n",
       "      <td>1</td>\n",
       "    </tr>\n",
       "  </tbody>\n",
       "</table>\n",
       "<p>499 rows × 19 columns</p>\n",
       "</div>"
      ],
      "text/plain": [
       "      Rk                     Player   Tm  Age  Pos   G  GS  Tgt  Rec  Ctch%  \\\n",
       "0      1    Stefon Diggs*+\\DiggSt00  BUF   27   WR  16  15  166  127  0.765   \n",
       "1      2   Davante Adams*+\\AdamDa01  GNB   28   WR  14  14  149  115  0.772   \n",
       "2      3  DeAndre Hopkins*\\HopkDe00  ARI   28   WR  16  16  160  115  0.719   \n",
       "3      4    Darren Waller*\\WallDa01  LVR   28   TE  16  15  145  107  0.738   \n",
       "4      5    Travis Kelce*+\\KelcTr00  KAN   31   TE  15  15  145  105  0.724   \n",
       "..   ...                        ...  ...  ...  ...  ..  ..  ...  ...    ...   \n",
       "494  495      Trevon Wesco\\WescTr00  NYJ   25  NaN  12   4    2    1  0.500   \n",
       "495  496    Dede Westbrook\\WestDe00  JAX   27  NaN   2   0    1    1  1.000   \n",
       "496  497  Antonio Williams\\WillAn03  BUF   23  NaN   1   0    1    1  1.000   \n",
       "497  498      Luke Willson\\WillLu00  2TM   30  NaN   8   0    3    1  0.333   \n",
       "498  499       T.J. Yeldon\\YeldT.00  BUF   27  NaN   3   0    4    1  0.250   \n",
       "\n",
       "      Yds   Y/R  TD  1D  Lng  Y/Tgt  R/G   Y/G  Fmb  \n",
       "0    1535  12.1   8  73   55    9.2  7.9  95.9    0  \n",
       "1    1374  11.9  18  73   56    9.2  8.2  98.1    1  \n",
       "2    1407  12.2   6  75   60    8.8  7.2  87.9    3  \n",
       "3    1196  11.2   9  69   38    8.2  6.7  74.8    2  \n",
       "4    1416  13.5  11  79   45    9.8  7.0  94.4    1  \n",
       "..    ...   ...  ..  ..  ...    ...  ...   ...  ...  \n",
       "494     5   5.0   0   0    5    2.5  0.1   0.4    0  \n",
       "495     4   4.0   0   0    4    4.0  0.5   2.0    1  \n",
       "496    20  20.0   0   1   20   20.0  1.0  20.0    0  \n",
       "497    12  12.0   0   0   12    4.0  0.1   1.5    0  \n",
       "498    22  22.0   1   1   22    5.5  0.3   7.3    1  \n",
       "\n",
       "[499 rows x 19 columns]"
      ]
     },
     "execution_count": 2,
     "metadata": {},
     "output_type": "execute_result"
    }
   ],
   "source": [
    "recieving = pd.read_csv(\"Football_Recieving_Stats_2020.csv\")  # Dataset\n",
    "recieving"
   ]
  },
  {
   "cell_type": "markdown",
   "id": "5f503ee7",
   "metadata": {},
   "source": [
    "## Positions Pie Chart"
   ]
  },
  {
   "cell_type": "markdown",
   "id": "e265f653",
   "metadata": {},
   "source": [
    "First, the data must be cleaned to sum the receptions for each position. We also got rid of the Quarterback and Right tackle positions because they had too few receptions to provide accurate statistics. These two also only catch passes on trick plays."
   ]
  },
  {
   "cell_type": "code",
   "execution_count": 72,
   "id": "6b86d1b5",
   "metadata": {},
   "outputs": [
    {
     "data": {
      "text/html": [
       "<div>\n",
       "<style scoped>\n",
       "    .dataframe tbody tr th:only-of-type {\n",
       "        vertical-align: middle;\n",
       "    }\n",
       "\n",
       "    .dataframe tbody tr th {\n",
       "        vertical-align: top;\n",
       "    }\n",
       "\n",
       "    .dataframe thead th {\n",
       "        text-align: right;\n",
       "    }\n",
       "</style>\n",
       "<table border=\"1\" class=\"dataframe\">\n",
       "  <thead>\n",
       "    <tr style=\"text-align: right;\">\n",
       "      <th></th>\n",
       "      <th>Rec</th>\n",
       "      <th>pos</th>\n",
       "    </tr>\n",
       "    <tr>\n",
       "      <th>Pos</th>\n",
       "      <th></th>\n",
       "      <th></th>\n",
       "    </tr>\n",
       "  </thead>\n",
       "  <tbody>\n",
       "    <tr>\n",
       "      <th>FB</th>\n",
       "      <td>69</td>\n",
       "      <td>Full-Back</td>\n",
       "    </tr>\n",
       "    <tr>\n",
       "      <th>RB</th>\n",
       "      <td>2395</td>\n",
       "      <td>Running-Back</td>\n",
       "    </tr>\n",
       "    <tr>\n",
       "      <th>TE</th>\n",
       "      <td>2097</td>\n",
       "      <td>Tight-End</td>\n",
       "    </tr>\n",
       "    <tr>\n",
       "      <th>WR</th>\n",
       "      <td>6436</td>\n",
       "      <td>Wide-Reciever</td>\n",
       "    </tr>\n",
       "  </tbody>\n",
       "</table>\n",
       "</div>"
      ],
      "text/plain": [
       "      Rec            pos\n",
       "Pos                     \n",
       "FB     69      Full-Back\n",
       "RB   2395   Running-Back\n",
       "TE   2097      Tight-End\n",
       "WR   6436  Wide-Reciever"
      ]
     },
     "execution_count": 72,
     "metadata": {},
     "output_type": "execute_result"
    }
   ],
   "source": [
    "newrecieving = recieving.groupby(\"Pos\")\n",
    "sums = pd.DataFrame(newrecieving['Rec'].sum())\n",
    "posi = ['Full-Back', 'Quarter-Back','Running-Back', 'Right-Tackle', 'Tight-End', 'Wide-Reciever']\n",
    "sums.columns =['Rec']\n",
    "sums['pos'] = posi\n",
    "sums = sums.drop('RT')\n",
    "sums = sums.drop('QB')\n",
    "sums\n",
    "\n"
   ]
  },
  {
   "cell_type": "code",
   "execution_count": 73,
   "id": "e5dd8196",
   "metadata": {},
   "outputs": [
    {
     "data": {
      "text/plain": [
       "Text(0.5, 0.98, 'Receptions by Position')"
      ]
     },
     "execution_count": 73,
     "metadata": {},
     "output_type": "execute_result"
    },
    {
     "data": {
      "image/png": "[encoded data removed]",
      "text/plain": [
       "<Figure size 432x288 with 1 Axes>"
      ]
     },
     "metadata": {},
     "output_type": "display_data"
    }
   ],
   "source": [
    "colors = [\"red\", \"blue\", \"green\", \"orange\"]\n",
    "explode = (.1, 0, 0, 0,)\n",
    "plt.pie(sums[\"Rec\"], labels = sums[\"pos\"], colors = colors, explode = explode)\n",
    "plt.suptitle(\"Receptions by Position\")"
   ]
  },
  {
   "cell_type": "markdown",
   "id": "ebddccf8",
   "metadata": {},
   "source": [
    "This pie chart shows that of course wide recievers are catching the most passes by a large margin. Intrestingly enough, tight ends and runningbacks have very similar receptions. Both of these positions have multiple jobs (Catching, blocking or running) so it makes sense that they combine for a little under half of the receptions. The fullback position is very under ultilized and many teams don't use one, therefore it has very few receptions."
   ]
  },
  {
   "cell_type": "markdown",
   "id": "2caed8f9",
   "metadata": {},
   "source": [
    "## Seaborn Reg Plot"
   ]
  },
  {
   "cell_type": "code",
   "execution_count": 185,
   "id": "67aba23b",
   "metadata": {},
   "outputs": [
    {
     "name": "stderr",
     "output_type": "stream",
     "text": [
      "/usr/local/lib/python3.8/dist-packages/seaborn/distributions.py:306: UserWarning: Dataset has 0 variance; skipping density estimate.\n",
      "  warnings.warn(msg, UserWarning)\n",
      "/usr/local/lib/python3.8/dist-packages/seaborn/distributions.py:306: UserWarning: Dataset has 0 variance; skipping density estimate.\n",
      "  warnings.warn(msg, UserWarning)\n"
     ]
    },
    {
     "data": {
      "image/png": "[encoded data removed]",
      "text/plain": [
       "<Figure size 432x288 with 1 Axes>"
      ]
     },
     "metadata": {
      "needs_background": "light"
     },
     "output_type": "display_data"
    },
    {
     "data": {
      "image/png": "[encoded data removed]",
      "text/plain": [
       "<Figure size 432x432 with 3 Axes>"
      ]
     },
     "metadata": {
      "needs_background": "light"
     },
     "output_type": "display_data"
    }
   ],
   "source": [
    "sns.regplot(x = \"Rec\", y =\"Yds\", data= recieving, color = \"g\", scatter_kws = {'s' : 3}, line_kws = {'color' : 'black'})\n",
    "plt.title('Receptions vs Yards')\n",
    "sns.jointplot(x = \"Rec\", y = \"Yds\", data = recieving,\n",
    "              hue = \"Pos\", joint_kws = {'s' : 10})\n",
    "plt.title('                  Receptions vs Yards')\n",
    "plt.show()"
   ]
  },
  {
   "cell_type": "markdown",
   "id": "c4466287",
   "metadata": {},
   "source": [
    "These two plots show the relationship between receptions and yards acquired. Clearly there is a linear relationship. The second graph gives a better idea on how the positions perform differently. The frequency of receptions shown on the top shows that the number of receptions for position are pretty split, meaning the talent level is very spread out. The yards however show that the running back position and tight ends are limited to much less yards. Most players only accumulate around 300 yards on the season at these positions. The wide recievers are still quite spread out in terms of yards. Another intresting thing to note, most tight ends were limited in yards except for two players that are outliers. These two are Travis Kelce and Darren Waller, who run almost as many routes as wide recievers."
   ]
  },
  {
   "cell_type": "markdown",
   "id": "9ff8d2a9",
   "metadata": {},
   "source": [
    "## Statistical Analysis"
   ]
  },
  {
   "cell_type": "code",
   "execution_count": 197,
   "id": "ebaf4613",
   "metadata": {},
   "outputs": [
    {
     "name": "stdout",
     "output_type": "stream",
     "text": [
      "0.9569598476466483\n",
      "0.9157721500078964\n"
     ]
    }
   ],
   "source": [
    "correlation_matrix = np.corrcoef(recieving[\"Rec\"], recieving[\"Yds\"])\n",
    "r = correlation_matrix[0,1]\n",
    "r_squared = r**2\n",
    "print(r)\n",
    "print(r_squared)"
   ]
  },
  {
   "cell_type": "markdown",
   "id": "5b0c0495",
   "metadata": {},
   "source": [
    "The R value is extremely high at 95.69 and the R squared is also high at 91.57. This means that there is almost a perfect one to one linear correlation between the amount of receptions effect on yards gained. The high r squared value also means 91.6% of the variance in our data can be explained\n",
    "\n",
    "In conclusion, the amount of yards to be gained by a reciever is strongly related to how many catches he gets on the year."
   ]
  },
  {
   "cell_type": "markdown",
   "id": "0005536d",
   "metadata": {},
   "source": [
    "## Does a reciever who gains more yards on each catch have a better chance of scoring a touchdown?"
   ]
  },
  {
   "cell_type": "markdown",
   "id": "54f69dc6",
   "metadata": {},
   "source": [
    "Yards per Reception gives a better idea what kind of reciever players are. Some recievers are fast and tend to run deeper routes. These deep threats often score when they outspeed their defender."
   ]
  },
  {
   "cell_type": "code",
   "execution_count": 182,
   "id": "ab05c820",
   "metadata": {},
   "outputs": [
    {
     "data": {
      "text/plain": [
       "Text(0, 0.5, 'Yards per Reception')"
      ]
     },
     "execution_count": 182,
     "metadata": {},
     "output_type": "execute_result"
    },
    {
     "data": {
      "image/png": "[encoded data removed]",
      "text/plain": [
       "<Figure size 432x288 with 1 Axes>"
      ]
     },
     "metadata": {
      "needs_background": "light"
     },
     "output_type": "display_data"
    }
   ],
   "source": [
    "sns.boxplot(x = \"TD\", y = \"Y/R\", data = recieving)\n",
    "sns.despine(offset = 10, trim = True)\n",
    "plt.title('Receptions vs Yards')\n",
    "plt.xlabel('Touchdowns on the Year')\n",
    "plt.ylabel('Yards per Reception')"
   ]
  },
  {
   "cell_type": "markdown",
   "id": "351be824",
   "metadata": {},
   "source": [
    "The amount of touchdowns scored compared to how many yards a player only has a slight linear trend. Players who didn't see the endzone often averaged much less yards per reception. However, as soon as players started to score around 7 touchdowns, the Y/R evened out. Some players to take note of is the second leader in touchdowns, Tyreek Hill, who is the fastest player in the league. The best reciever in the league, Davante Adams, scored the most TD's with less games played. He had an average Y/R though, but led the league in yards per game.\n",
    "\n",
    "Keep in mind, for runningbacks this only includes their touchdown receptions therefore most RB's didn't have many. To answer the question though, players who gain more yards per reception do indeed have a better chance to score."
   ]
  },
  {
   "cell_type": "markdown",
   "id": "41ef9dca",
   "metadata": {},
   "source": [
    "## Team Recieving Yards"
   ]
  },
  {
   "cell_type": "markdown",
   "id": "a63045d6",
   "metadata": {},
   "source": [
    "To see the reception yards per team the data once again had to be cleaned. Unfortunately, players who were traded do not have seperate stats for each team so they had to be removed. This was very rare and didn't include any of the top 150 players so it didn't affect the data much."
   ]
  },
  {
   "cell_type": "code",
   "execution_count": 175,
   "id": "7ebba3c6",
   "metadata": {},
   "outputs": [
    {
     "data": {
      "text/html": [
       "<div>\n",
       "<style scoped>\n",
       "    .dataframe tbody tr th:only-of-type {\n",
       "        vertical-align: middle;\n",
       "    }\n",
       "\n",
       "    .dataframe tbody tr th {\n",
       "        vertical-align: top;\n",
       "    }\n",
       "\n",
       "    .dataframe thead th {\n",
       "        text-align: right;\n",
       "    }\n",
       "</style>\n",
       "<table border=\"1\" class=\"dataframe\">\n",
       "  <thead>\n",
       "    <tr style=\"text-align: right;\">\n",
       "      <th></th>\n",
       "      <th>Tm</th>\n",
       "      <th>Yards</th>\n",
       "      <th>tcolor</th>\n",
       "    </tr>\n",
       "  </thead>\n",
       "  <tbody>\n",
       "    <tr>\n",
       "      <th>0</th>\n",
       "      <td>ARI</td>\n",
       "      <td>4099</td>\n",
       "      <td>red</td>\n",
       "    </tr>\n",
       "    <tr>\n",
       "      <th>1</th>\n",
       "      <td>ATL</td>\n",
       "      <td>4620</td>\n",
       "      <td>darkred</td>\n",
       "    </tr>\n",
       "    <tr>\n",
       "      <th>2</th>\n",
       "      <td>BAL</td>\n",
       "      <td>2907</td>\n",
       "      <td>purple</td>\n",
       "    </tr>\n",
       "    <tr>\n",
       "      <th>3</th>\n",
       "      <td>BUF</td>\n",
       "      <td>4786</td>\n",
       "      <td>blue</td>\n",
       "    </tr>\n",
       "    <tr>\n",
       "      <th>4</th>\n",
       "      <td>CAR</td>\n",
       "      <td>4129</td>\n",
       "      <td>lightblue</td>\n",
       "    </tr>\n",
       "    <tr>\n",
       "      <th>5</th>\n",
       "      <td>CHI</td>\n",
       "      <td>3925</td>\n",
       "      <td>darkorange</td>\n",
       "    </tr>\n",
       "    <tr>\n",
       "      <th>6</th>\n",
       "      <td>CIN</td>\n",
       "      <td>3793</td>\n",
       "      <td>sandybrown</td>\n",
       "    </tr>\n",
       "    <tr>\n",
       "      <th>7</th>\n",
       "      <td>CLE</td>\n",
       "      <td>3687</td>\n",
       "      <td>orange</td>\n",
       "    </tr>\n",
       "    <tr>\n",
       "      <th>8</th>\n",
       "      <td>DAL</td>\n",
       "      <td>4511</td>\n",
       "      <td>grey</td>\n",
       "    </tr>\n",
       "    <tr>\n",
       "      <th>9</th>\n",
       "      <td>DEN</td>\n",
       "      <td>3673</td>\n",
       "      <td>orange</td>\n",
       "    </tr>\n",
       "    <tr>\n",
       "      <th>10</th>\n",
       "      <td>DET</td>\n",
       "      <td>3929</td>\n",
       "      <td>lightblue</td>\n",
       "    </tr>\n",
       "    <tr>\n",
       "      <th>11</th>\n",
       "      <td>GNB</td>\n",
       "      <td>4299</td>\n",
       "      <td>green</td>\n",
       "    </tr>\n",
       "    <tr>\n",
       "      <th>12</th>\n",
       "      <td>HOU</td>\n",
       "      <td>4820</td>\n",
       "      <td>maroon</td>\n",
       "    </tr>\n",
       "    <tr>\n",
       "      <th>13</th>\n",
       "      <td>IND</td>\n",
       "      <td>4186</td>\n",
       "      <td>darkblue</td>\n",
       "    </tr>\n",
       "    <tr>\n",
       "      <th>14</th>\n",
       "      <td>JAX</td>\n",
       "      <td>3955</td>\n",
       "      <td>teal</td>\n",
       "    </tr>\n",
       "    <tr>\n",
       "      <th>15</th>\n",
       "      <td>KAN</td>\n",
       "      <td>4893</td>\n",
       "      <td>orangered</td>\n",
       "    </tr>\n",
       "    <tr>\n",
       "      <th>16</th>\n",
       "      <td>LAC</td>\n",
       "      <td>4449</td>\n",
       "      <td>yellow</td>\n",
       "    </tr>\n",
       "    <tr>\n",
       "      <th>17</th>\n",
       "      <td>LAR</td>\n",
       "      <td>4183</td>\n",
       "      <td>blue</td>\n",
       "    </tr>\n",
       "    <tr>\n",
       "      <th>18</th>\n",
       "      <td>LVR</td>\n",
       "      <td>4383</td>\n",
       "      <td>black</td>\n",
       "    </tr>\n",
       "    <tr>\n",
       "      <th>19</th>\n",
       "      <td>MIA</td>\n",
       "      <td>3912</td>\n",
       "      <td>cyan</td>\n",
       "    </tr>\n",
       "    <tr>\n",
       "      <th>20</th>\n",
       "      <td>MIN</td>\n",
       "      <td>4265</td>\n",
       "      <td>purple</td>\n",
       "    </tr>\n",
       "    <tr>\n",
       "      <th>21</th>\n",
       "      <td>NOR</td>\n",
       "      <td>3945</td>\n",
       "      <td>gold</td>\n",
       "    </tr>\n",
       "    <tr>\n",
       "      <th>22</th>\n",
       "      <td>NWE</td>\n",
       "      <td>3124</td>\n",
       "      <td>darkblue</td>\n",
       "    </tr>\n",
       "    <tr>\n",
       "      <th>23</th>\n",
       "      <td>NYG</td>\n",
       "      <td>3260</td>\n",
       "      <td>blue</td>\n",
       "    </tr>\n",
       "    <tr>\n",
       "      <th>24</th>\n",
       "      <td>NYJ</td>\n",
       "      <td>2910</td>\n",
       "      <td>darkgreen</td>\n",
       "    </tr>\n",
       "    <tr>\n",
       "      <th>25</th>\n",
       "      <td>PHI</td>\n",
       "      <td>3728</td>\n",
       "      <td>green</td>\n",
       "    </tr>\n",
       "    <tr>\n",
       "      <th>26</th>\n",
       "      <td>PIT</td>\n",
       "      <td>4129</td>\n",
       "      <td>yellow</td>\n",
       "    </tr>\n",
       "    <tr>\n",
       "      <th>27</th>\n",
       "      <td>SEA</td>\n",
       "      <td>4245</td>\n",
       "      <td>lightgreen</td>\n",
       "    </tr>\n",
       "    <tr>\n",
       "      <th>28</th>\n",
       "      <td>SFO</td>\n",
       "      <td>4311</td>\n",
       "      <td>gold</td>\n",
       "    </tr>\n",
       "    <tr>\n",
       "      <th>29</th>\n",
       "      <td>TAM</td>\n",
       "      <td>4776</td>\n",
       "      <td>red</td>\n",
       "    </tr>\n",
       "    <tr>\n",
       "      <th>30</th>\n",
       "      <td>TEN</td>\n",
       "      <td>3826</td>\n",
       "      <td>lightblue</td>\n",
       "    </tr>\n",
       "    <tr>\n",
       "      <th>31</th>\n",
       "      <td>WAS</td>\n",
       "      <td>3796</td>\n",
       "      <td>maroon</td>\n",
       "    </tr>\n",
       "  </tbody>\n",
       "</table>\n",
       "</div>"
      ],
      "text/plain": [
       "     Tm  Yards      tcolor\n",
       "0   ARI   4099         red\n",
       "1   ATL   4620     darkred\n",
       "2   BAL   2907      purple\n",
       "3   BUF   4786        blue\n",
       "4   CAR   4129   lightblue\n",
       "5   CHI   3925  darkorange\n",
       "6   CIN   3793  sandybrown\n",
       "7   CLE   3687      orange\n",
       "8   DAL   4511        grey\n",
       "9   DEN   3673      orange\n",
       "10  DET   3929   lightblue\n",
       "11  GNB   4299       green\n",
       "12  HOU   4820      maroon\n",
       "13  IND   4186    darkblue\n",
       "14  JAX   3955        teal\n",
       "15  KAN   4893   orangered\n",
       "16  LAC   4449      yellow\n",
       "17  LAR   4183        blue\n",
       "18  LVR   4383       black\n",
       "19  MIA   3912        cyan\n",
       "20  MIN   4265      purple\n",
       "21  NOR   3945        gold\n",
       "22  NWE   3124    darkblue\n",
       "23  NYG   3260        blue\n",
       "24  NYJ   2910   darkgreen\n",
       "25  PHI   3728       green\n",
       "26  PIT   4129      yellow\n",
       "27  SEA   4245  lightgreen\n",
       "28  SFO   4311        gold\n",
       "29  TAM   4776         red\n",
       "30  TEN   3826   lightblue\n",
       "31  WAS   3796      maroon"
      ]
     },
     "execution_count": 175,
     "metadata": {},
     "output_type": "execute_result"
    }
   ],
   "source": [
    "teamrecieving = recieving.groupby(\"Tm\")\n",
    "teamsums = pd.DataFrame(teamrecieving['Yds'].sum())\n",
    "teamsums.columns =['Yards']\n",
    "teamsums = teamsums.drop('2TM')\n",
    "teamsums = teamsums.reset_index()\n",
    "teamsums['tcolor'] = ['red', 'darkred', 'purple', 'blue', 'lightblue', 'darkorange', 'sandybrown', 'orange', 'grey', 'orange',\n",
    "          'lightblue', 'green', 'maroon', 'darkblue', 'teal', 'orangered', 'yellow', 'blue', 'black', 'cyan','purple',\n",
    "          'gold', 'darkblue', 'blue', 'darkgreen', 'green', 'yellow', 'lightgreen', 'gold', 'red', 'lightblue', 'maroon']\n",
    "teamsums\n"
   ]
  },
  {
   "cell_type": "code",
   "execution_count": 184,
   "id": "5fc0bc42",
   "metadata": {},
   "outputs": [
    {
     "data": {
      "text/plain": [
       "<BarContainer object of 32 artists>"
      ]
     },
     "execution_count": 184,
     "metadata": {},
     "output_type": "execute_result"
    },
    {
     "data": {
      "image/png": "[encoded data removed]",
      "text/plain": [
       "<Figure size 432x288 with 1 Axes>"
      ]
     },
     "metadata": {
      "needs_background": "light"
     },
     "output_type": "display_data"
    }
   ],
   "source": [
    "_ = plt.bar(x = \"Tm\", height=\"Yards\", data=teamsums, color = 'tcolor')\n",
    "plt.xticks(rotation=70, fontsize=7.5)\n",
    "plt.title('Team Recieving Yards')\n",
    "plt.xlabel('Teams')\n",
    "plt.ylabel('Yards')\n",
    "_"
   ]
  },
  {
   "cell_type": "markdown",
   "id": "5975e015",
   "metadata": {},
   "source": [
    "As expected, the teams with the most recieving yards had some of the best recievers. However, quarterback play seems to be the largest factor in the yards. The teams with the most yards, the Chiefs and Bucs, happened to have the best quarterbacks: Patrick Mahomes and Tom Brady. The third best team had the best reciever on the year, Stefon Diggs. At the very bottom of the list was the Ravens, whose quarterback, Lamar Jackson, has been criticsed for never throwing the ball and preferring to run it himself."
   ]
  }
 ],
 "metadata": {
  "kernelspec": {
   "display_name": "Python 3",
   "language": "python",
   "name": "python3"
  },
  "language_info": {
   "codemirror_mode": {
    "name": "ipython",
    "version": 3
   },
   "file_extension": ".py",
   "mimetype": "text/x-python",
   "name": "python",
   "nbconvert_exporter": "python",
   "pygments_lexer": "ipython3",
   "version": "3.8.10"
  }
 },
 "nbformat": 4,
 "nbformat_minor": 5
}
